{
 "cells": [
  {
   "cell_type": "code",
   "execution_count": null,
   "id": "39022381-e464-47aa-b9b8-a5261d22e816",
   "metadata": {},
   "outputs": [],
   "source": [
    "from sklearn.model_selection import train_test_split\n",
    "\n",
    "input_file = \"recipes_chat_finetune.jsonl\"\n",
    "train_file = \"train.jsonl\"\n",
    "val_file = \"val.jsonl\"\n",
    "\n",
    "with open(input_file, \"r\") as f:\n",
    "    lines = f.readlines()\n",
    "\n",
    "train_lines, val_lines = train_test_split(lines, train_size=0.8, random_state=42)\n",
    "\n",
    "with open(train_file, \"w\") as f:\n",
    "    f.writelines(train_lines)\n",
    "\n",
    "with open(val_file, \"w\") as f:\n",
    "    f.writelines(val_lines)\n",
    "\n",
    "print(\"{len(train_lines)} training and {len(val_lines)} validation samples\")\n"
   ]
  },
  {
   "cell_type": "code",
   "execution_count": null,
   "id": "b2a2922f-b7fe-436e-839e-5939e0cea378",
   "metadata": {},
   "outputs": [],
   "source": []
  }
 ],
 "metadata": {
  "kernelspec": {
   "display_name": "Python 3 (ipykernel)",
   "language": "python",
   "name": "python3"
  },
  "language_info": {
   "codemirror_mode": {
    "name": "ipython",
    "version": 3
   },
   "file_extension": ".py",
   "mimetype": "text/x-python",
   "name": "python",
   "nbconvert_exporter": "python",
   "pygments_lexer": "ipython3",
   "version": "3.10.12"
  }
 },
 "nbformat": 4,
 "nbformat_minor": 5
}
